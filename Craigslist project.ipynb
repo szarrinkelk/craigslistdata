{
 "cells": [
  {
   "cell_type": "markdown",
   "metadata": {},
   "source": [
    "# Imports"
   ]
  },
  {
   "cell_type": "code",
   "execution_count": 1,
   "metadata": {
    "collapsed": false
   },
   "outputs": [],
   "source": [
    "import scrapy\n",
    "from scrapy.selector import HtmlXPathSelector\n",
    "import csv\n",
    "import requests\n",
    "import re\n",
    "import numpy as np\n",
    "import operator"
   ]
  },
  {
   "cell_type": "markdown",
   "metadata": {},
   "source": [
    "# Scraping Craigslist "
   ]
  },
  {
   "cell_type": "code",
   "execution_count": 2,
   "metadata": {
    "collapsed": false
   },
   "outputs": [],
   "source": [
    "class CraigslistItem(scrapy.Item):\n",
    "    # define the fields for your item here like:\n",
    "    # name = scrapy.Field()\n",
    "    title = scrapy.Field()\n",
    "    comp = scrapy.Field()\n"
   ]
  },
  {
   "cell_type": "code",
   "execution_count": 3,
   "metadata": {
    "collapsed": false
   },
   "outputs": [],
   "source": [
    "class CraigsSpider(scrapy.Spider):\n",
    "    name = \"craigsBase\"\n",
    "    allowed_domains = [\"craigslist.org\"]\n",
    "    start_urls = [\"http://sfbay.craigslist.org/search/npo\"]\n",
    "\n",
    "    def parse(self, response):\n",
    "        #crawls all the links\n",
    "        for href in response.css(\"span.pl > a::attr('href')\"):\n",
    "            url = response.urljoin(href.extract())\n",
    "            print(url)\n",
    "            yield scrapy.Request(url, callback=self.parse_dir_contents)\n",
    "\n",
    "\n",
    "    def parse_dir_contents(self, response):\n",
    "        item = CraigslistItem()\n",
    "        item['title'] = response.xpath('//*[@id=\"titletextonly\"]/text()').extract()\n",
    "        item['comp'] = response.xpath('//*[@id=\"pagecontainer\"]/section/section/div[1]/p/span[1]/b/text()').extract()\n",
    "        yield item\n"
   ]
  },
  {
   "cell_type": "markdown",
   "metadata": {},
   "source": [
    "# Filtering out all the salaries"
   ]
  },
  {
   "cell_type": "code",
   "execution_count": 4,
   "metadata": {
    "collapsed": false
   },
   "outputs": [
    {
     "name": "stdout",
     "output_type": "stream",
     "text": [
      "[404.0, 552.0, 18.0, 20.0, 50.0, 15.0, 22.94, 85.0, 16.0, 18.0, 13.0, 17.0, 5600.0, 8300.0, 21.0, 50.0, 55.0, 400.0, 650.0, 15000.0, 5730.0, 15000.0, 5730.0, 11.0, 14.0, 450.0, 600.0, 16.72, 13.0, 14.0, 13.5, 13.5, 15.07, 15.0, 12.0, 13.5, 24.04, 12.0, 13.5, 18.0, 19.0, 12.0, 13.0, 17.0, 11.74, 11.74, 11.74, 11.74, 12.0, 20.0, 75000.0, 14.5, 22.5, 30.0, 20.0, 55.0, 58.0, 24.0, 15.0, 17.0, 10.5, 15.0, 15.0, 17.0, 13.0, 17.0, 5600.0, 8300.0, 1500.0, 2000.0, 19.23, 17.0, 20.0, 42.0, 19.23, 404.0, 552.0, 404.0, 552.0]\n"
     ]
    }
   ],
   "source": [
    "salaries = []\n",
    "clean_salaries = []\n",
    "with open(\"craigfile.csv\") as f: \n",
    "    reader = csv.reader(f, delimiter=',')\n",
    "    for row in reader:\n",
    "        if \"$\" in row[0]:   \n",
    "            salarie = re.findall('\\$\\d*.\\d{1,4}', row[0])\n",
    "            for salary in salarie:\n",
    "                if \"-\" in salary:\n",
    "                    salary = salary.split(\"-\")\n",
    "                    salaryB = salary[:len(salary)/2]\n",
    "                    salaryB = salaryB[0].strip(\"$\")\n",
    "                    salaryC = salary[len(salary)/2:]\n",
    "                    salaries.append(salaryB)\n",
    "                    salaries.append(salaryC[0])\n",
    "                else:\n",
    "                    salaries.append(salary)     \n",
    "    for x in salaries:\n",
    "        salaries = x.strip('$').replace(',','')\n",
    "        clean_salaries.append(float(salaries))\n",
    "print clean_salaries    "
   ]
  },
  {
   "cell_type": "markdown",
   "metadata": {},
   "source": [
    "# Dividing up the salaries based on amount"
   ]
  },
  {
   "cell_type": "code",
   "execution_count": 7,
   "metadata": {
    "collapsed": false
   },
   "outputs": [
    {
     "name": "stdout",
     "output_type": "stream",
     "text": [
      "[8300.0, 15000.0, 15000.0, 75000.0, 8300.0]\n"
     ]
    }
   ],
   "source": [
    "annual = []\n",
    "for i in clean_salaries:\n",
    "        if i > 6000:\n",
    "            annual.append(i)\n",
    "print annual            "
   ]
  },
  {
   "cell_type": "code",
   "execution_count": 8,
   "metadata": {
    "collapsed": false
   },
   "outputs": [
    {
     "name": "stdout",
     "output_type": "stream",
     "text": [
      "[552.0, 5600.0, 650.0, 5730.0, 5730.0, 600.0, 5600.0, 1500.0, 2000.0, 552.0, 552.0]\n"
     ]
    }
   ],
   "source": [
    "month = []\n",
    "for i in clean_salaries:\n",
    "        if i > 500 and i < 6000:\n",
    "            month.append(i)\n",
    "print month "
   ]
  },
  {
   "cell_type": "code",
   "execution_count": 9,
   "metadata": {
    "collapsed": false
   },
   "outputs": [
    {
     "name": "stdout",
     "output_type": "stream",
     "text": [
      "[404.0, 552.0, 85.0, 55.0, 400.0, 650.0, 450.0, 600.0, 55.0, 58.0, 404.0, 552.0, 404.0, 552.0]\n"
     ]
    }
   ],
   "source": [
    "week = []\n",
    "for i in clean_salaries:\n",
    "        if i > 50 and i < 1000:\n",
    "            week.append(i)\n",
    "print week "
   ]
  },
  {
   "cell_type": "code",
   "execution_count": 10,
   "metadata": {
    "collapsed": false
   },
   "outputs": [
    {
     "name": "stdout",
     "output_type": "stream",
     "text": [
      "[18.0, 20.0, 15.0, 22.94, 16.0, 18.0, 13.0, 17.0, 21.0, 11.0, 14.0, 16.72, 13.0, 14.0, 13.5, 13.5, 15.07, 15.0, 12.0, 13.5, 24.04, 12.0, 13.5, 18.0, 19.0, 12.0, 13.0, 17.0, 11.74, 11.74, 11.74, 11.74, 12.0, 20.0, 14.5, 22.5, 30.0, 20.0, 24.0, 15.0, 17.0, 10.5, 15.0, 15.0, 17.0, 13.0, 17.0, 19.23, 17.0, 20.0, 42.0, 19.23]\n"
     ]
    }
   ],
   "source": [
    "hour = []\n",
    "for i in clean_salaries:\n",
    "        if i < 50:\n",
    "            hour.append(i)\n",
    "print hour "
   ]
  },
  {
   "cell_type": "markdown",
   "metadata": {},
   "source": [
    "# Average annual salary"
   ]
  },
  {
   "cell_type": "code",
   "execution_count": 11,
   "metadata": {
    "collapsed": false
   },
   "outputs": [
    {
     "name": "stdout",
     "output_type": "stream",
     "text": [
      "24320.0\n"
     ]
    }
   ],
   "source": [
    "print np.mean(annual)"
   ]
  },
  {
   "cell_type": "code",
   "execution_count": 12,
   "metadata": {
    "collapsed": false
   },
   "outputs": [
    {
     "name": "stdout",
     "output_type": "stream",
     "text": [
      "[404.0, 552.0, 18.0, 20.0, 50.0, 15.0, 22.94, 85.0, 16.0, 18.0, 13.0, 17.0, 5600.0, 8300.0, 21.0, 50.0, 55.0, 400.0, 650.0, 15000.0, 5730.0, 15000.0, 5730.0, 11.0, 14.0, 450.0, 600.0, 16.72, 13.0, 14.0, 13.5, 13.5, 15.07, 15.0, 12.0, 13.5, 24.04, 12.0, 13.5, 18.0, 19.0, 12.0, 13.0, 17.0, 11.74, 11.74, 11.74, 11.74, 12.0, 20.0, 75000.0, 14.5, 22.5, 30.0, 20.0, 55.0, 58.0, 24.0, 15.0, 17.0, 10.5, 15.0, 15.0, 17.0, 13.0, 17.0, 5600.0, 8300.0, 1500.0, 2000.0, 19.23, 17.0, 20.0, 42.0, 19.23, 404.0, 552.0, 404.0, 552.0]\n"
     ]
    }
   ],
   "source": [
    "print clean_salaries"
   ]
  },
  {
   "cell_type": "markdown",
   "metadata": {
    "collapsed": true
   },
   "source": [
    "# Average monthly salary"
   ]
  },
  {
   "cell_type": "code",
   "execution_count": 13,
   "metadata": {
    "collapsed": false
   },
   "outputs": [
    {
     "name": "stdout",
     "output_type": "stream",
     "text": [
      "2642.36363636\n"
     ]
    }
   ],
   "source": [
    "print np.mean(month)"
   ]
  },
  {
   "cell_type": "markdown",
   "metadata": {},
   "source": [
    "# Average weekly salary"
   ]
  },
  {
   "cell_type": "code",
   "execution_count": 14,
   "metadata": {
    "collapsed": false
   },
   "outputs": [
    {
     "name": "stdout",
     "output_type": "stream",
     "text": [
      "372.928571429\n"
     ]
    }
   ],
   "source": [
    "print np.mean(week)"
   ]
  },
  {
   "cell_type": "markdown",
   "metadata": {
    "collapsed": true
   },
   "source": [
    "# Average hourly salary"
   ]
  },
  {
   "cell_type": "code",
   "execution_count": 15,
   "metadata": {
    "collapsed": false
   },
   "outputs": [
    {
     "name": "stdout",
     "output_type": "stream",
     "text": [
      "16.6863461538\n"
     ]
    }
   ],
   "source": [
    "print np.mean(hour)"
   ]
  },
  {
   "cell_type": "code",
   "execution_count": 16,
   "metadata": {
    "collapsed": false
   },
   "outputs": [
    {
     "name": "stdout",
     "output_type": "stream",
     "text": [
      "[404.0, 552.0, 18.0, 20.0, 50.0, 15.0, 22.94, 85.0, 16.0, 18.0, 13.0, 17.0, 5600.0, 8300.0, 21.0, 50.0, 55.0, 400.0, 650.0, 15000.0, 5730.0, 15000.0, 5730.0, 11.0, 14.0, 450.0, 600.0, 16.72, 13.0, 14.0, 13.5, 13.5, 15.07, 15.0, 12.0, 13.5, 24.04, 12.0, 13.5, 18.0, 19.0, 12.0, 13.0, 17.0, 11.74, 11.74, 11.74, 11.74, 12.0, 20.0, 75000.0, 14.5, 22.5, 30.0, 20.0, 55.0, 58.0, 24.0, 15.0, 17.0, 10.5, 15.0, 15.0, 17.0, 13.0, 17.0, 5600.0, 8300.0, 1500.0, 2000.0, 19.23, 17.0, 20.0, 42.0, 19.23, 404.0, 552.0, 404.0, 552.0]\n"
     ]
    }
   ],
   "source": [
    "print clean_salaries"
   ]
  },
  {
   "cell_type": "markdown",
   "metadata": {},
   "source": [
    "# Alternative"
   ]
  },
  {
   "cell_type": "code",
   "execution_count": 341,
   "metadata": {
    "collapsed": false
   },
   "outputs": [],
   "source": [
    "def divide_salaries(array):\n",
    "    salaries = { annual == [], month == [], week == [], hour == [] }\n",
    "    \n",
    "    for i in array:\n",
    "        if i > 5000:\n",
    "            annual.append(i)\n",
    "        elif i < 50:\n",
    "            hour.append(i)\n",
    "        elif i > 50 and i < 500:\n",
    "            week.append(i)\n",
    "        else: \n",
    "            month.append(i)\n",
    "    return salaries"
   ]
  }
 ],
 "metadata": {
  "kernelspec": {
   "display_name": "Python 2",
   "language": "python",
   "name": "python2"
  },
  "language_info": {
   "codemirror_mode": {
    "name": "ipython",
    "version": 2
   },
   "file_extension": ".py",
   "mimetype": "text/x-python",
   "name": "python",
   "nbconvert_exporter": "python",
   "pygments_lexer": "ipython2",
   "version": "2.7.11"
  }
 },
 "nbformat": 4,
 "nbformat_minor": 0
}
